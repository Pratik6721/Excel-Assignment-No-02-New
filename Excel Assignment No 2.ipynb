{
 "cells": [
  {
   "cell_type": "markdown",
   "id": "541e190b",
   "metadata": {},
   "source": [
    "1 . What does the dollar($) sign do?\n",
    "Ans - Dollar sign indicates absolute cell reference in formulas."
   ]
  },
  {
   "cell_type": "markdown",
   "id": "58240493",
   "metadata": {},
   "source": [
    "2 . How to Change the Reference from Relative to Absolute (or Mixed)?\n",
    "Ans - Changing a cell from a relative to an absolute reference can be done as.\n",
    "\n",
    "I. Open Microsoft Excel.\n",
    "II. Highlight the cell containing the formula you want to have changed to an absolute or relative reference.\n",
    "III. Click the formula box or highlight the formula and press the F4 key to switch between an absolute and relative cell reference."
   ]
  },
  {
   "cell_type": "markdown",
   "id": "c6cfcf4e",
   "metadata": {},
   "source": [
    "3 . Explain the order of operations in excel?\n",
    "Ans - In general the order of opearations in Excel is PEMDAS(Parentheses, Exponents, Multiplication, Division, Addition, Substraction)"
   ]
  },
  {
   "cell_type": "markdown",
   "id": "3a1429fb",
   "metadata": {},
   "source": [
    "4 . What, according to you, are the top 5 functions in excel and write a basic syntax\n",
    "for any of two?\n",
    "Ans - The top 5 functions in excel are 1. The SUM function 2. The TEXT function 3. The VLOOKUP function 4. The AVERAGE function 5. The CONCATENATE function\n",
    "\n",
    "Basic syntax of 1. The SUM function is =SUM(number1,[number2],...\n",
    "Basic syntax of 1. The TEXT function is =TEXT(value, format_text)"
   ]
  },
  {
   "cell_type": "markdown",
   "id": "b1228778",
   "metadata": {},
   "source": [
    "5 . When would you use the subtotal function?\n",
    "Ans - The subtotal function in Excel allows users to create groups and then perform various other Excel functions such as SUM, COUNT, AVERAGE, PRODUCT, MAX, etc. Thus, the SUBTOTAL function in Excel helps in analyzing the data provided. Sometimes, we need data based on different categories. Subtotal help us to get the totals of several columns of data broken down into various categories."
   ]
  },
  {
   "cell_type": "markdown",
   "id": "1036482a",
   "metadata": {},
   "source": [
    "6 . What is the syntax of the vlookup function? Explain the terms in it?\n",
    "Ans - The syntax of the VLOOKUP function is =VLOOKUP(lookup_value, table_array, col_index_num, [range_lookup])\n",
    "\"lookup_value\" is the data you want to find\n",
    "\"table_array\" is the data column where you want to limit your search\n",
    "\"col_index_num\" is the column number within the table that you want to return a value from\n",
    "\"range_lookup\" is an optional argument that allows you to search for the exact match of your lookup value without sorting the table\n"
   ]
  }
 ],
 "metadata": {
  "kernelspec": {
   "display_name": "Python 3 (ipykernel)",
   "language": "python",
   "name": "python3"
  },
  "language_info": {
   "codemirror_mode": {
    "name": "ipython",
    "version": 3
   },
   "file_extension": ".py",
   "mimetype": "text/x-python",
   "name": "python",
   "nbconvert_exporter": "python",
   "pygments_lexer": "ipython3",
   "version": "3.9.12"
  }
 },
 "nbformat": 4,
 "nbformat_minor": 5
}
